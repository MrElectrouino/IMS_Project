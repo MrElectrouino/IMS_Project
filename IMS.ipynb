import json
import time
import random as rd
record_file ="/content/drive/MyDrive/py_file/IMS/record.json"

sales = {}
add_product = {}
sale_file = '/content/drive/MyDrive/py_file/IMS/sales.json' 
 
# function to add to JSON
def write_json(new_data, filename = sale_file):
    with open(sale_file,'r+') as file:
          # First we load existing data into a dict.
        file_data = json.load(file)
        # Join new_data with file_data inside emp_details
        file_data["user_details"].append(new_data)
        # Sets file's current position at offset.
        file.seek(0)
        # convert back to json.
        json.dump(file_data, file, indent = 4)
        file.close()

def record_json(new_data_record, filename = record_file):
    with open(record_file,'r+') as file:
          # First we load existing data into a dict.
        file_data = json.load(file)
        # Join new_data with file_data inside emp_details
        file_data["smartphone"].append(new_data_record)
        # Sets file's current position at offset.
        file.seek(0)
        # convert back to json.
        json.dump(file_data, file, indent = 4)
        file.close()

def list_of_smartphone():
    with open(record_file, 'r') as data_file:
        data = json.load(data_file)
        for i in range(0, len(data["smartphone"])):
            for lst in data["smartphone"][i]:
                list_phone = [lst][0]
                print(list_phone)

is_run = True
while is_run:
    print('=============================')
    print('= Inventory Management Menu =')
    print('=============================')
    print("A-Add an item")
    print("L-List all items")
    print("P-Purchase")
    print("S-Show all smartphones purchased")
    print("R-Remove an record")
    print("Q-Quit")
    print("")
    choice = input("Enter choice: ").lower()
    if choice == "a":
        print("*****Add an item*****")
        phone_name = input("Enter SmartPhone name: ")
        phone_processor = input("Enter processor name: ")
        phone_ram = input("Enter ram: ")
        phone_display = input("Enter display size: ")
        phone_battery = input("Enter battery mAH: ")
        phone_price = input("Enter cost: ")
        if phone_processor != "" and phone_ram != "" and phone_display != "" and phone_battery != "" and phone_processor != "" :
            add_product = {
                phone_name: { 
                    "processor": phone_processor,
                    "ram": phone_ram,
                    "display": phone_display,
                    "battery": phone_battery,
                    "cost": phone_price
                },
            }
            record_json(add_product)
        else:
            print("Please fill all data.")
    elif choice == "r":
        print("Remove an item")
        print("List of all Smartphone")
        ##list_of_smartphone()
        print("\n")
        del_item = input("Which smartphone item you want to delete? :")
        with open(record_file, 'r') as data_file:
            data = json.load(data_file)
            for i in range(0, len(data["smartphone"])):
                ldt= data["smartphone"][i].keys()
                if del_item in ldt:
                    del data["smartphone"][i][del_item] 
            print("Successfull Deleted")
            while {} in data["smartphone"]:
                data["smartphone"].remove({})
        with open(record_file, 'w') as data_file:
            data = json.dump(data, data_file)
            data_file.close()
    elif choice == "l":
        print("\n")
        print("List of all Smartphone")
        list_of_smartphone()
    elif choice == "p":
        print("Purchase")
        select = input("Enter smartphone name: ")
        with open(record_file, 'r') as data_file:
            data = json.load(data_file)
            for i in range(0, len(data["smartphone"])):
                ldt= data["smartphone"][i].keys()
                if select in ldt:
                    x = data["smartphone"][i][select] 
                    print("\n")
                    print("Features of the smartphone")
                    print("Processor:", x['processor'])
                    print("RAM:", x['ram'])
                    print("Display:", x['display'])
                    print("Battery:", x['battery'])
                    print("cost:", x['cost']) 
                    print("\n") 
                    buy = input("Do you want to Purchase this phone. Type 'yes' or 'no': ").lower()
                    if buy == "yes":
                        amount_error = True
                        while amount_error:
                            buyer_name = input("Enter your name: ")
                            amount = int(input("Enter amount Rs: "))
                            if buyer_name != "":
                                if x['cost'] != amount:
                                    print("Please enter correct amount: ", x['cost'])
                                else:
                                    num = rd.randint(0,101)
                                    user_id = buyer_name + str(num)
                                    sales = { 
                                        user_id : {
                                            "Name" : buyer_name,
                                            "Product" : select,
                                            "Price" : amount,
                                            "Time" : time.ctime()
                                        }, 
                                    }
                                    write_json(sales)
                                    print("*******************************")
                                    print("              BILL             ")
                                    print("*******************************")
                                    print("User ID:", user_id)
                                    print("******User Purchase Information******")
                                    print("Name: ", buyer_name)
                                    print("Product name: ", select)
                                    print("Price: ",amount)
                                    print("date of Purchase: ",time.ctime())
                                    print("")
                                    print("Transaction successfull!!! Billing cost: ", amount)
                                    amount_error = False

                            else:
                                print("Please enter your name")
                    else:
                        is_run = False
    elif choice == "s":
        print("")
        print("list of the purchased phone")
        fd = open("/content/drive/MyDrive/py_file/IMS/sales.json",'r')
        r_sales = fd.read()
        fd.close()
        sale_data = json.loads(r_sales)
        len_data= len(sale_data["user_details"])
        for z in range(0, len_data):
            for keys in sale_data["user_details"][z]:
                    k = sale_data["user_details"][z][keys]
                    print("User ID:", keys)
                    print("******User Purchase Information******")
                    print("Name: ", k["Name"])
                    print("Product name: ", k["Product"])
                    print("Price: ",k["Price"])
                    print("date of Purchase: ",k["Time"])
                    print("")
                    print("")
    elif choice == "q":
        print("Quit")
        is_run = False
